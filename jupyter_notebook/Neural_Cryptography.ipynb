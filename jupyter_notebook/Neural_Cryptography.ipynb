{
  "nbformat": 4,
  "nbformat_minor": 0,
  "metadata": {
    "colab": {
      "name": "Neural_Cryptography",
      "provenance": [],
      "collapsed_sections": []
    },
    "kernelspec": {
      "name": "python3",
      "display_name": "Python 3"
    },
    "accelerator": "GPU"
  },
  "cells": [
    {
      "cell_type": "markdown",
      "metadata": {
        "id": "y9Hf6vawLz9E"
      },
      "source": [
        "#<b>Neural Cryptography</b>"
      ]
    },
    {
      "cell_type": "markdown",
      "metadata": {
        "id": "r14baN4xL_Cj"
      },
      "source": [
        "###<b>Import Libraries"
      ]
    },
    {
      "cell_type": "code",
      "metadata": {
        "id": "vmJDAmQRtr5f"
      },
      "source": [
        "import tensorflow.compat.v1 as tf\n",
        "tf.compat.v1.disable_eager_execution()\n",
        "tf.reset_default_graph()\n",
        "import numpy as np\n",
        "import matplotlib.pyplot as plt"
      ],
      "execution_count": 1,
      "outputs": []
    },
    {
      "cell_type": "markdown",
      "metadata": {
        "id": "vYuY5jHLMDpI"
      },
      "source": [
        "###<b>Configurable Parameters"
      ]
    },
    {
      "cell_type": "code",
      "metadata": {
        "id": "PiwGdxpituQY"
      },
      "source": [
        "# Input configuration.\n",
        "text_size = 16\n",
        "key_size  = 16\n",
        "\n",
        "# Training parameters.\n",
        "learning_rate   = 0.0008\n",
        "batch_size      = 4096\n",
        "sample_size     = 4096*5\n",
        "epochs          = 8000\n",
        "steps_per_epoch = int(sample_size/batch_size)\n",
        "\n",
        "ITERS_PER_ACTOR = 1\n",
        "EVE_MULTIPLIER = 2  # Train Eve 2x for every step of Alice/Bob"
      ],
      "execution_count": 2,
      "outputs": []
    },
    {
      "cell_type": "code",
      "metadata": {
        "id": "OJnssNmLt8Kx"
      },
      "source": [
        "#Variables for graphs\n",
        "values_of_i=[]\n",
        "alice_bob_acc=[]\n",
        "eve_acc=[]"
      ],
      "execution_count": 3,
      "outputs": []
    },
    {
      "cell_type": "markdown",
      "metadata": {
        "id": "ctfIES3pNZjU"
      },
      "source": [
        "###<b>Random Dataset</b>"
      ]
    },
    {
      "cell_type": "code",
      "metadata": {
        "id": "445Xc3X6uF9v"
      },
      "source": [
        "def random_bools(size, n):\n",
        "\n",
        "  # create a batch size of 'size' with 'n' number of bits per sample\n",
        "  temp =  np.random.random_integers(0, high=1, size=[size, n])\n",
        "\n",
        "  # Convert 0 -> -1 and 1 -> 1 \n",
        "  temp = temp*2 - 1\n",
        "\n",
        "  return temp.astype(np.float32)\n",
        "\n",
        "def get_dataset(sample_size, text_size, key_size):\n",
        "\n",
        "  m = random_bools(sample_size, text_size)\n",
        "  k = random_bools(sample_size, key_size)\n",
        "\n",
        "  return m, k"
      ],
      "execution_count": 5,
      "outputs": []
    },
    {
      "cell_type": "markdown",
      "metadata": {
        "id": "lY9RS8KqNgks"
      },
      "source": [
        "###<b>Creating Models"
      ]
    },
    {
      "cell_type": "code",
      "metadata": {
        "id": "y__3aEQzuA69"
      },
      "source": [
        "# Function to return a list of tensor's to be used in training based on the scope of model\n",
        "def get_collection(collection):\n",
        "  return tf.get_collection(tf.GraphKeys.GLOBAL_VARIABLES, scope=collection) \n",
        "\n",
        "# Create two placeholders to hold message and key\n",
        "input_message = tf.placeholder(tf.float32, shape=(batch_size, text_size), name='input_message')\n",
        "input_key     = tf.placeholder(tf.float32, shape=(batch_size, key_size), name='input_key')\n",
        "\n",
        "\n",
        "# Function to create individual models for Alice, Bob and Eve.\n",
        "def model(collection, message, key=None):\n",
        "\n",
        "  if key is not None:\n",
        "    # if there is a key then it's either Alice or Bob model trying to encrypt and decrypt resp\n",
        "    # message and key is concatenated into single tensor and fed as an input\n",
        "    combined_input = tf.concat(axis=1, values=[message, key])\n",
        "  else:\n",
        "    # if no key is present then it's Eve model trying to eavesdrop hence pass the message as input tensor \n",
        "    combined_input = message\n",
        "\n",
        "  # collection arg is to denote the scope of model which is used to aggregate the \n",
        "  # tensor to make sure all tensor which needs to be trained are inside one scope\n",
        "  with tf.variable_scope(collection):\n",
        "\n",
        "\n",
        "    ## Fully connected layer of 16+16 = 32 neurons\n",
        "    fc = tf.layers.dense(combined_input, text_size + key_size, activation=tf.nn.relu)\n",
        "    # expand and create channel to be valid for convolution\n",
        "    # i.e convert FC layer a vector of 32 to matrix of (32,1) \n",
        "    fc = tf.expand_dims(fc, 2)\n",
        "\n",
        "\n",
        "    ## Convolution Layers - Sigmoid activation function\n",
        "\n",
        "    # input: (32,1) -> output:(32,2) because filter is 2 which creates 2 channels\n",
        "    conv1 = tf.layers.conv1d( fc,    filters=2, kernel_size=4, strides= 1, padding='SAME',  activation=tf.nn.sigmoid)\n",
        "\n",
        "    # input: (32,2) -> output:(16,4) because stride is 2 hence result is halved ( i.e 32/2 )\n",
        "    # filter is 4 which creates 4 channels\n",
        "    conv2 = tf.layers.conv1d( conv1, filters=4, kernel_size=2, strides= 2, padding='VALID', activation=tf.nn.sigmoid)\n",
        "\n",
        "    # input: (16,4) -> output:(16,4) because filter is 4 which creates 4 channels\n",
        "    conv3 = tf.layers.conv1d( conv2, filters=4, kernel_size=1, strides= 1, padding='SAME',  activation=tf.nn.sigmoid)\n",
        "\n",
        "\n",
        "    ## Convolution Layers - Tanh activation function\n",
        "\n",
        "    # input: (16,4) -> output:(16,1) because filter is 1 which creates 1 channel\n",
        "    conv4 = tf.layers.conv1d( conv3, filters=1, kernel_size=1, strides=1, padding='SAME', activation=tf.nn.tanh)\n",
        "\n",
        "    # Opposite of expand_dims function, here (16,1) tensor is converted to tensor of (16)\n",
        "    conv4 = tf.squeeze(conv4, 2)\n",
        "\n",
        "\n",
        "    return conv4"
      ],
      "execution_count": 6,
      "outputs": []
    },
    {
      "cell_type": "markdown",
      "metadata": {
        "id": "BEyGVyINNj-2"
      },
      "source": [
        "###<b>Loss Functions"
      ]
    },
    {
      "cell_type": "code",
      "metadata": {
        "id": "wIB8wY7OuHvz"
      },
      "source": [
        "def eve_loss(input_message, eve_out_message, batch_size):\n",
        "\n",
        "  # Mapping -1 to 0 and 1 to 1\n",
        "  eve_diff = (eve_out_message + 1.0)/2.0 - (input_message + 1.0)/2.0\n",
        "\n",
        "  # Eve's average L1 distance Loss of the given batch\n",
        "  loss = (1/batch_size)*tf.reduce_sum(tf.abs(eve_diff))\n",
        "\n",
        "  return loss\n",
        "\n",
        "def alice_bob_loss(input_message, bob_out_message, Eve_loss, batch_size):\n",
        "\n",
        "  ## Alice-Bob Loss part-1\n",
        "\n",
        "  # Mapping -1 to 0 and 1 to 1\n",
        "  ab_diff = (bob_out_message + 1.0)/2.0 - (input_message + 1.0)/2.0\n",
        "\n",
        "  # Alice and Bob's average L1 distance Loss of the given batch\n",
        "  bob_reconstruction_loss = (1/batch_size)*tf.reduce_sum(tf.abs(ab_diff))\n",
        "\n",
        "  ## Alice-Bob Loss part-2\n",
        "  # To make sure Eve at least has 50% of bits wrong so that output simulates random probability of binary output\n",
        "  # ((N/2 - EveLoss)^2)/((N/2)^2)\n",
        "  eve_evedropping_loss = tf.reduce_sum( tf.square(float(text_size) / 2.0 - Eve_loss) / (text_size / 2)**2)\n",
        "\n",
        "  # bobs final reconstruction loss\n",
        "  loss = bob_reconstruction_loss + eve_evedropping_loss\n",
        "\n",
        "  return loss"
      ],
      "execution_count": 7,
      "outputs": []
    },
    {
      "cell_type": "markdown",
      "metadata": {
        "id": "XxryIZMNNoMV"
      },
      "source": [
        "###<b>Symmetric Key Cryptosystem"
      ]
    },
    {
      "cell_type": "code",
      "metadata": {
        "id": "luaroBvguEBg"
      },
      "source": [
        "def symm_crypto_create(input_message, input_key):\n",
        "\n",
        "  # Alice takes in message and shared secret key to encrypt and create a ciphertext\n",
        "  Alice_out_ciphertext = model( 'Alice', input_message, input_key)\n",
        "\n",
        "  # Bob takes in ciphertext and shared secret key to decrypt and recreate the original message\n",
        "  Bob_out_message      = model( 'Bob',   Alice_out_ciphertext, input_key)\n",
        "\n",
        "  # Eve only takes in ciphertext and tries to decrypt it without using key\n",
        "  Eve_out_message      = model( 'Eve',   Alice_out_ciphertext)\n",
        "\n",
        "  return Bob_out_message, Eve_out_message\n"
      ],
      "execution_count": 4,
      "outputs": []
    },
    {
      "cell_type": "markdown",
      "metadata": {
        "id": "bp8jZKFnNw0C"
      },
      "source": [
        "###<b>Training"
      ]
    },
    {
      "cell_type": "code",
      "metadata": {
        "id": "QntXXOd3H5U9",
        "colab": {
          "base_uri": "https://localhost:8080/"
        },
        "outputId": "c816c352-5bfe-4620-bfd5-a12cf81102d5"
      },
      "source": [
        "sess = tf.Session()\n",
        "\n",
        "# Create symmetric cryptosystem in form of adversarial networks\n",
        "Bob_out, Eve_out = symm_crypto_create(input_message, input_key)\n",
        "\n",
        "# Loss\n",
        "eve_loss       = eve_loss(input_message, Eve_out, batch_size)\n",
        "alice_bob_loss = alice_bob_loss(input_message, Bob_out, eve_loss, batch_size)\n",
        "\n",
        "# Collect each model's tensors\n",
        "alice_vars = get_collection('Alice')\n",
        "bob_vars   = get_collection('Bob')\n",
        "eve_vars   = get_collection('Eve')\n",
        "\n",
        "# optimizers\n",
        "Eve_opt  = tf.train.AdamOptimizer(learning_rate=learning_rate, beta1=0.9, epsilon=1e-08).minimize(eve_loss, var_list=[eve_vars])\n",
        "bob_opt  = tf.train.AdamOptimizer(learning_rate=learning_rate, beta1=0.9, epsilon=1e-08).minimize(alice_bob_loss, var_list=[alice_vars + bob_vars]) \n",
        "\n",
        "# initialize variables\n",
        "init = tf.global_variables_initializer()\n",
        "sess.run(init)\n",
        "\n",
        "\n",
        "# DATASET \n",
        "messages, keys = get_dataset(sample_size, text_size, key_size)\n",
        "\n",
        "for i in range(epochs):\n",
        "\n",
        "  for j in range(steps_per_epoch):\n",
        "    \n",
        "    # select the batch from the samples\n",
        "    batch_messages = messages[j*batch_size: (j+1)*batch_size]\n",
        "    batch_keys     = keys[j*batch_size: (j+1)*batch_size]\n",
        "\n",
        "    # Train Alice and Bob's models\n",
        "    for _ in range(ITERS_PER_ACTOR):\n",
        "      temp = sess.run([bob_opt, alice_bob_loss],feed_dict={input_message:batch_messages , input_key:batch_keys })\n",
        "      Alice_bob_loss = temp[1]\n",
        "\n",
        "    # Train Eve's model\n",
        "    for _ in range(ITERS_PER_ACTOR*EVE_MULTIPLIER):\n",
        "      temp = sess.run([Eve_opt, eve_loss], feed_dict={input_message:batch_messages , input_key:batch_keys })\n",
        "      Eve_loss = temp[1]\n",
        "\n",
        "  # output Alice-Bob loss and Eve's loss after every 100 iterations  \n",
        "  if i%100 == 0:\n",
        "    print(i,'  Alice_bob_loss: ', Alice_bob_loss,'    Eve_loss:', Eve_loss)\n",
        "    values_of_i.append(i)\n",
        "    alice_bob_acc.append((8-Alice_bob_loss)*1.25)\n",
        "    eve_acc.append((8-Eve_loss)*1.25)\n",
        "sess.close()"
      ],
      "execution_count": 8,
      "outputs": [
        {
          "output_type": "stream",
          "text": [
            "/usr/local/lib/python3.7/dist-packages/tensorflow/python/keras/legacy_tf_layers/core.py:171: UserWarning: `tf.layers.dense` is deprecated and will be removed in a future version. Please use `tf.keras.layers.Dense` instead.\n",
            "  warnings.warn('`tf.layers.dense` is deprecated and '\n",
            "/usr/local/lib/python3.7/dist-packages/tensorflow/python/keras/engine/base_layer_v1.py:1719: UserWarning: `layer.apply` is deprecated and will be removed in a future version. Please use `layer.__call__` method instead.\n",
            "  warnings.warn('`layer.apply` is deprecated and '\n",
            "/usr/local/lib/python3.7/dist-packages/tensorflow/python/keras/legacy_tf_layers/convolutional.py:202: UserWarning: `tf.layers.conv1d` is deprecated and will be removed in a future version. Please Use `tf.keras.layers.Conv1D` instead.\n",
            "  warnings.warn('`tf.layers.conv1d` is deprecated and '\n",
            "/usr/local/lib/python3.7/dist-packages/ipykernel_launcher.py:4: DeprecationWarning: This function is deprecated. Please call randint(0, 1 + 1) instead\n",
            "  after removing the cwd from sys.path.\n"
          ],
          "name": "stderr"
        },
        {
          "output_type": "stream",
          "text": [
            "0   Alice_bob_loss:  7.999582     Eve_loss: 7.9872055\n",
            "100   Alice_bob_loss:  5.229217     Eve_loss: 3.4507287\n",
            "200   Alice_bob_loss:  1.2047093     Eve_loss: 2.6849322\n",
            "300   Alice_bob_loss:  0.606116     Eve_loss: 4.719716\n",
            "400   Alice_bob_loss:  0.41270494     Eve_loss: 5.8589387\n",
            "500   Alice_bob_loss:  0.3497555     Eve_loss: 6.261297\n",
            "600   Alice_bob_loss:  0.31275505     Eve_loss: 6.601489\n",
            "700   Alice_bob_loss:  0.29174447     Eve_loss: 6.8337383\n",
            "800   Alice_bob_loss:  0.27965957     Eve_loss: 6.9830604\n",
            "900   Alice_bob_loss:  0.27154753     Eve_loss: 7.098042\n",
            "1000   Alice_bob_loss:  0.26663885     Eve_loss: 7.162318\n",
            "1100   Alice_bob_loss:  0.26136592     Eve_loss: 7.2753124\n",
            "1200   Alice_bob_loss:  0.2582743     Eve_loss: 7.3441863\n",
            "1300   Alice_bob_loss:  0.25636852     Eve_loss: 7.37733\n",
            "1400   Alice_bob_loss:  0.25383887     Eve_loss: 7.4607935\n",
            "1500   Alice_bob_loss:  0.25208274     Eve_loss: 7.5307617\n",
            "1600   Alice_bob_loss:  0.26568294     Eve_loss: 7.0678844\n",
            "1700   Alice_bob_loss:  0.25098905     Eve_loss: 7.5401907\n",
            "1800   Alice_bob_loss:  0.25015727     Eve_loss: 7.5693007\n",
            "1900   Alice_bob_loss:  0.2495742     Eve_loss: 7.5955324\n",
            "2000   Alice_bob_loss:  0.24898772     Eve_loss: 7.624441\n",
            "2100   Alice_bob_loss:  0.24843904     Eve_loss: 7.6593904\n",
            "2200   Alice_bob_loss:  0.25618327     Eve_loss: 7.208748\n",
            "2300   Alice_bob_loss:  0.250841     Eve_loss: 7.462652\n",
            "2400   Alice_bob_loss:  0.24905609     Eve_loss: 7.5848\n",
            "2500   Alice_bob_loss:  0.24823655     Eve_loss: 7.6515036\n",
            "2600   Alice_bob_loss:  0.24794245     Eve_loss: 7.674498\n",
            "2700   Alice_bob_loss:  0.24774092     Eve_loss: 7.6905355\n",
            "2800   Alice_bob_loss:  0.24754171     Eve_loss: 7.705532\n",
            "2900   Alice_bob_loss:  0.24727233     Eve_loss: 7.7297087\n",
            "3000   Alice_bob_loss:  0.26156276     Eve_loss: 7.005329\n",
            "3100   Alice_bob_loss:  0.2527429     Eve_loss: 7.343146\n",
            "3200   Alice_bob_loss:  0.24953541     Eve_loss: 7.525298\n",
            "3300   Alice_bob_loss:  0.24806309     Eve_loss: 7.6404905\n",
            "3400   Alice_bob_loss:  0.24750811     Eve_loss: 7.6960106\n",
            "3500   Alice_bob_loss:  0.24731264     Eve_loss: 7.7159395\n",
            "3600   Alice_bob_loss:  0.2471596     Eve_loss: 7.7341337\n",
            "3700   Alice_bob_loss:  0.2471882     Eve_loss: 7.7278624\n",
            "3800   Alice_bob_loss:  0.25411144     Eve_loss: 7.280854\n",
            "3900   Alice_bob_loss:  0.25025862     Eve_loss: 7.477149\n",
            "4000   Alice_bob_loss:  0.24855515     Eve_loss: 7.5933924\n",
            "4100   Alice_bob_loss:  0.24762076     Eve_loss: 7.6754775\n",
            "4200   Alice_bob_loss:  0.24718669     Eve_loss: 7.7223372\n",
            "4300   Alice_bob_loss:  0.24702825     Eve_loss: 7.741697\n",
            "4400   Alice_bob_loss:  0.2569527     Eve_loss: 7.1646805\n",
            "4500   Alice_bob_loss:  0.25156128     Eve_loss: 7.4029136\n",
            "4600   Alice_bob_loss:  0.24911179     Eve_loss: 7.5497103\n",
            "4700   Alice_bob_loss:  0.2478819     Eve_loss: 7.6455817\n",
            "4800   Alice_bob_loss:  0.24743542     Eve_loss: 7.6925735\n",
            "4900   Alice_bob_loss:  0.24712415     Eve_loss: 7.7278996\n",
            "5000   Alice_bob_loss:  0.24700399     Eve_loss: 7.7415895\n",
            "5100   Alice_bob_loss:  0.24699742     Eve_loss: 7.7432547\n",
            "5200   Alice_bob_loss:  0.25517166     Eve_loss: 7.233405\n",
            "5300   Alice_bob_loss:  0.25103855     Eve_loss: 7.429044\n",
            "5400   Alice_bob_loss:  0.2486452     Eve_loss: 7.5829973\n",
            "5500   Alice_bob_loss:  0.24755526     Eve_loss: 7.6765833\n",
            "5600   Alice_bob_loss:  0.2471296     Eve_loss: 7.7259626\n",
            "5700   Alice_bob_loss:  0.24693696     Eve_loss: 7.74824\n",
            "5800   Alice_bob_loss:  0.24682444     Eve_loss: 7.7618313\n",
            "5900   Alice_bob_loss:  0.26391354     Eve_loss: 7.047067\n",
            "6000   Alice_bob_loss:  0.25381523     Eve_loss: 7.29023\n",
            "6100   Alice_bob_loss:  0.25114685     Eve_loss: 7.422081\n",
            "6200   Alice_bob_loss:  0.24932598     Eve_loss: 7.533264\n",
            "6300   Alice_bob_loss:  0.24831544     Eve_loss: 7.607928\n",
            "6400   Alice_bob_loss:  0.24755333     Eve_loss: 7.6781664\n",
            "6500   Alice_bob_loss:  0.24714305     Eve_loss: 7.7215195\n",
            "6600   Alice_bob_loss:  0.24708112     Eve_loss: 7.728558\n",
            "6700   Alice_bob_loss:  0.012595593     Eve_loss: 7.106372\n",
            "6800   Alice_bob_loss:  0.007999336     Eve_loss: 7.289419\n",
            "6900   Alice_bob_loss:  0.00546096     Eve_loss: 7.413592\n",
            "7000   Alice_bob_loss:  0.0037768418     Eve_loss: 7.513734\n",
            "7100   Alice_bob_loss:  0.0027824922     Eve_loss: 7.5861087\n",
            "7200   Alice_bob_loss:  0.002337822     Eve_loss: 7.620897\n",
            "7300   Alice_bob_loss:  0.003229755     Eve_loss: 7.5610104\n",
            "7400   Alice_bob_loss:  0.0042576473     Eve_loss: 7.5290756\n",
            "7500   Alice_bob_loss:  0.003845414     Eve_loss: 7.510151\n",
            "7600   Alice_bob_loss:  0.003653407     Eve_loss: 7.522721\n",
            "7700   Alice_bob_loss:  0.0040281364     Eve_loss: 7.519536\n",
            "7800   Alice_bob_loss:  0.004727725     Eve_loss: 7.487191\n",
            "7900   Alice_bob_loss:  0.0044132266     Eve_loss: 7.4796996\n"
          ],
          "name": "stdout"
        }
      ]
    },
    {
      "cell_type": "markdown",
      "metadata": {
        "id": "k-jJo-FYN12v"
      },
      "source": [
        "###<b>Results"
      ]
    },
    {
      "cell_type": "code",
      "metadata": {
        "id": "g2NL2AK6ICfP",
        "colab": {
          "base_uri": "https://localhost:8080/",
          "height": 291
        },
        "outputId": "7a270c93-7bcf-42e6-ae46-04c96194a595"
      },
      "source": [
        "plt.style.use('seaborn-whitegrid')\n",
        "\n",
        "plt.plot(values_of_i,alice_bob_acc, color='blue',label='ALICE/BOB')\n",
        "plt.plot(values_of_i, eve_acc, color='orange',label='EVE')\n",
        "plt.xlabel('Steps')\n",
        "plt.ylabel('Accuracy')\n",
        "plt.legend()\n",
        "plt.title('Model Accuracy')\n",
        "plt.show()\n"
      ],
      "execution_count": 9,
      "outputs": [
        {
          "output_type": "display_data",
          "data": {
            "image/png": "[encoded data removed]",
            "text/plain": [
              "<Figure size 432x288 with 1 Axes>"
            ]
          },
          "metadata": {
            "tags": []
          }
        }
      ]
    }
  ]
}